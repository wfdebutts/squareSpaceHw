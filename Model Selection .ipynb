{
 "cells": [
  {
   "cell_type": "markdown",
   "metadata": {},
   "source": [
    "# Model Selection \n",
    "### Objectives \n",
    "    1) Create rigrourous 10-Fold cross validation framework for models\n",
    "    2) Fit models starting at day 0\n",
    "    3) Generate diagnostics for models and justify selection"
   ]
  },
  {
   "cell_type": "code",
   "execution_count": 1,
   "metadata": {
    "collapsed": false
   },
   "outputs": [],
   "source": [
    "# imports and loading the cleaned and anotated data\n",
    "# data transforms are defined and detailed in the Data Exploration notebook \n",
    "import pandas as pd \n",
    "import numpy as np\n",
    "import matplotlib as plt\n",
    "import matplotlib.pyplot as pyplt\n",
    "import math\n",
    "import time\n",
    "from sklearn import linear_model\n",
    "%matplotlib inline  \n",
    "plt.style.use('ggplot')\n",
    "# load data from anotated csv if it is in your local directory \n",
    "adf=pd.read_csv('Anotated_Strategy_Data_Set.csv',parse_dates=['trial_date','subscription_date','trial_dateTime','sub_dateTime'], infer_datetime_format=True)\n",
    "# I dont think you can parse time deltas \n",
    "adf['subLag']=adf['sub_dateTime']-adf['trial_dateTime']\n",
    "### big issue here \n",
    "#df=df.sample(10000)\n"
   ]
  },
  {
   "cell_type": "code",
   "execution_count": 32,
   "metadata": {
    "collapsed": false
   },
   "outputs": [
    {
     "name": "stdout",
     "output_type": "stream",
     "text": [
      "(74891, 21)\n",
      "(62283, 21)\n"
     ]
    }
   ],
   "source": [
    "# function to anotate cohort variables give a diff\n",
    "# assumes there is master df called df \n",
    "def anotate_cohort_vars (diff,df):\n",
    "    cScore={}\n",
    "    for row in df.trial_date.unique():\n",
    "        sdf=df[df.trial_date==row]\n",
    "        # calculate day0 yield \n",
    "        if diff >= np.timedelta64(1, 'D'):\n",
    "            i1=sdf[(sdf.subLag != np.timedelta64(0, 's')) & (sdf.subLag < np.timedelta64(1, 'D')) ].id.count()\n",
    "        else: \n",
    "            i1=0\n",
    "        # calculate yield to date \n",
    "        i2=sdf[(sdf.subLag != np.timedelta64(0, 's')) & (sdf.subLag < diff) ].id.count()\n",
    "        # etc etc \n",
    "        c=sdf.id.count()\n",
    "        cScore[row]=(row,c,i1/c,i2/c)\n",
    "    #print (cScore[np.datetime64('2013-05-01T00:00:00.000000000')])\n",
    "    toAdd=pd.DataFrame.from_dict(cScore,orient='index')\n",
    "    toAdd.columns = ['trial_date','cohort_numTrials', 'cohort_day0_yield','cohort_ytd']\n",
    "    df=df.join(toAdd, on='trial_date',rsuffix='throwaway')\n",
    "    df.drop(['trial_datethrowaway','Unnamed: 0'],inplace=True,axis=1)\n",
    "    return df\n",
    "print(adf.shape)\n",
    "delta=np.timedelta64(20,'D')\n",
    "# filter out data that occurs after this date \n",
    "df=adf[(adf.sub_hour_start.isnull()) | (adf.subLag >= delta)]\n",
    "print(df.shape)\n",
    "df=anotate_cohort_vars(delta,df)\n",
    "variables = ['trial_hour','us','uk','can','aus','mon','tueWed','sunSat','thr','cohort_numTrials','cohort_day0_yield','cohort_ytd']\n",
    "ac=[]"
   ]
  },
  {
   "cell_type": "code",
   "execution_count": null,
   "metadata": {
    "collapsed": false
   },
   "outputs": [],
   "source": []
  },
  {
   "cell_type": "code",
   "execution_count": 33,
   "metadata": {
    "collapsed": false
   },
   "outputs": [
    {
     "name": "stdout",
     "output_type": "stream",
     "text": [
      "--- Start Fold ---\n",
      "Partioning Data...\n",
      "--- Start Fold ---\n",
      "Partioning Data...\n",
      "--- Start Fold ---\n",
      "Partioning Data...\n",
      "--- Start Fold ---\n",
      "Partioning Data...\n",
      "--- Start Fold ---\n",
      "Partioning Data...\n",
      "--- Start Fold ---\n",
      "Partioning Data...\n",
      "--- Start Fold ---\n",
      "Partioning Data...\n",
      "--- Start Fold ---\n",
      "Partioning Data...\n",
      "--- Start Fold ---\n",
      "Partioning Data...\n",
      "--- Start Fold ---\n",
      "Partioning Data...\n",
      "--- End of CV ---\n",
      "Runtime\n",
      "0.31722497940063477\n"
     ]
    }
   ],
   "source": [
    "# Prototype script for CV \n",
    "partitions = df.trial_date.unique()\n",
    "np.random.shuffle(partitions)\n",
    "partitions=np.array_split(partitions,10)\n",
    "#partions is now the days to hold out for training we can than create the df's we need from df to generate our test and train data \n",
    "#define list of ROC scores to average  \n",
    "rocauc=[]\n",
    "#define list to hold line objects / fits so we can generate nice plots \n",
    "plots=[]\n",
    "start=time.time()\n",
    "for partition in partitions: \n",
    "    print('--- Start Fold ---')\n",
    "    print('Partioning Data...')\n",
    "    test =df[df.trial_date.isin(partition)]\n",
    "    train=df[df.trial_date.isin(partition)==False]\n",
    "    # now we can fit a model for this random data on train and then validate on test once we select to cols we want \n",
    "    #subset train & test for apropraite cols\n",
    "    # call sklearn.model()\n",
    "    #generate the diagnostics and store them in the respective lists \n",
    "\n",
    "# draw final charts and present model findings.\n",
    "\n",
    "fin=time.time()\n",
    "print('--- End of CV ---')\n",
    "print('Runtime')\n",
    "print(fin-start)"
   ]
  },
  {
   "cell_type": "code",
   "execution_count": 34,
   "metadata": {
    "collapsed": false
   },
   "outputs": [
    {
     "data": {
      "text/plain": [
       "Index(['id', 'trial_date', 'trial_hour', 'day_of_week', 'trial_country',\n",
       "       'subscription_date', 'sub_hour_start', 'sub_label', 'trial_dateTime',\n",
       "       'sub_dateTime', 'subLag', 'country_count', 'us', 'uk', 'can', 'aus',\n",
       "       'mon', 'tueWed', 'sunSat', 'thr', 'cohort_numTrials',\n",
       "       'cohort_day0_yield', 'cohort_ytd'],\n",
       "      dtype='object')"
      ]
     },
     "execution_count": 34,
     "metadata": {},
     "output_type": "execute_result"
    }
   ],
   "source": [
    "test.columns"
   ]
  },
  {
   "cell_type": "code",
   "execution_count": null,
   "metadata": {
    "collapsed": false
   },
   "outputs": [],
   "source": []
  },
  {
   "cell_type": "code",
   "execution_count": null,
   "metadata": {
    "collapsed": false
   },
   "outputs": [],
   "source": []
  },
  {
   "cell_type": "markdown",
   "metadata": {},
   "source": [
    "### Linear Regression to Estimate P(Subscribe)"
   ]
  },
  {
   "cell_type": "code",
   "execution_count": 35,
   "metadata": {
    "collapsed": false
   },
   "outputs": [
    {
     "name": "stdout",
     "output_type": "stream",
     "text": [
      "0.999062884165\n",
      "0.990831405189\n",
      "0.896296317007\n",
      "0.896791189149\n",
      "0.996466838095\n",
      "0.966848965902\n",
      "0.995742880077\n",
      "0.862993043686\n",
      "0.929532705323\n",
      "0.943909833896\n"
     ]
    },
    {
     "data": {
      "image/png": "[encoded data removed]",
      "text/plain": [
       "<matplotlib.figure.Figure at 0xaf15d30>"
      ]
     },
     "metadata": {},
     "output_type": "display_data"
    },
    {
     "name": "stdout",
     "output_type": "stream",
     "text": [
      "Accuracy    0.947848\n",
      "dtype: float64\n"
     ]
    }
   ],
   "source": [
    "partitions = df.trial_date.unique()\n",
    "np.random.shuffle(partitions)\n",
    "partitions=np.array_split(partitions,10)\n",
    "#partions is now the days to hold out for training we can than create the df's we need from df to generate our test and train data \n",
    "#define list of ROC scores to average  \n",
    "rocauc=[]\n",
    "#define list to hold line objects / fits so we can generate nice plots \n",
    "plots=[]\n",
    "start=time.time()\n",
    "for partition in partitions: \n",
    "    #print('--- Start Fold ---')\n",
    "    #print('Partioning Data...')\n",
    "    # now we can fit a model for this random data on train and then validate on test once we select to cols we want \n",
    "    #subset train & test for apropraite cols\n",
    "    test =df[df.trial_date.isin(partition)]\n",
    "    train=df[df.trial_date.isin(partition)==False]\n",
    "    train_x=train[variables].as_matrix()\n",
    "    train_y=train['sub_label'].as_matrix()\n",
    "    test_x=test[variables].as_matrix()\n",
    "    test_y=test['sub_label'].as_matrix()\n",
    "    # call sklearn.model() -- LINEAR\n",
    "    # Create linear regression object\n",
    "    regr = linear_model.LinearRegression()\n",
    "    # Train the model using the training sets\n",
    "    regr.fit(train_x, train_y)\n",
    "    #generate the diagnostics and store them in the respective lists \n",
    "    p=sum(regr.predict(test_x))\n",
    "    a=test[test.sub_label ==1].id.count()\n",
    "    r=1-abs(p-a)/a \n",
    "    print(r)\n",
    "    rocauc.append(r)\n",
    "\n",
    "# draw final charts and present model findings.\n",
    "fin=time.time()\n",
    "#print('--- End of CV ---')\n",
    "#print('Runtime')\n",
    "#print(fin-start)\n",
    "a=pd.DataFrame(rocauc, columns=['Accuracy'])\n",
    "a.hist()\n",
    "pyplt.show()\n",
    "print(a.mean())\n",
    "ac.append(a.mean())"
   ]
  },
  {
   "cell_type": "code",
   "execution_count": 36,
   "metadata": {
    "collapsed": false
   },
   "outputs": [
    {
     "data": {
      "text/plain": [
       "0.029272310871887953"
      ]
     },
     "execution_count": 36,
     "metadata": {},
     "output_type": "execute_result"
    }
   ],
   "source": [
    "\n",
    "math.sqrt(np.var(rocauc))*1.96/math.sqrt(len(rocauc))"
   ]
  },
  {
   "cell_type": "markdown",
   "metadata": {},
   "source": [
    "### Logistic Regression to Estimate P(Subscribe)"
   ]
  },
  {
   "cell_type": "code",
   "execution_count": 37,
   "metadata": {
    "collapsed": false,
    "scrolled": true
   },
   "outputs": [
    {
     "name": "stdout",
     "output_type": "stream",
     "text": [
      "--- Start Fold ---\n",
      "Partioning Data...\n",
      "Fitting Model...\n",
      "[-17.47827392   0.98736483]\n",
      "--- Start Fold ---\n",
      "Partioning Data...\n",
      "Fitting Model...\n",
      "[-17.92215839   0.93400599]\n",
      "--- Start Fold ---\n",
      "Partioning Data...\n",
      "Fitting Model...\n",
      "[-19.09823522   0.9148291 ]\n",
      "--- Start Fold ---\n",
      "Partioning Data...\n",
      "Fitting Model...\n",
      "[-17.25627207   0.87956608]\n",
      "--- Start Fold ---\n",
      "Partioning Data...\n",
      "Fitting Model...\n",
      "[-15.64061842   0.70026754]\n",
      "--- Start Fold ---\n",
      "Partioning Data...\n",
      "Fitting Model...\n",
      "[-18.77806735   0.69748127]\n",
      "--- Start Fold ---\n",
      "Partioning Data...\n",
      "Fitting Model...\n",
      "[-15.6158482    0.98282068]\n",
      "--- Start Fold ---\n",
      "Partioning Data...\n",
      "Fitting Model...\n",
      "[-16.53906692   0.98608679]\n",
      "--- Start Fold ---\n",
      "Partioning Data...\n",
      "Fitting Model...\n",
      "[-26.11998766   0.89461088]\n",
      "--- Start Fold ---\n",
      "Partioning Data...\n",
      "Fitting Model...\n",
      "[-16.56779096   0.96420904]\n",
      "Runtime\n",
      "3.644592046737671\n"
     ]
    },
    {
     "data": {
      "image/png": "[encoded data removed]",
      "text/plain": [
       "<matplotlib.figure.Figure at 0xacabb70>"
      ]
     },
     "metadata": {},
     "output_type": "display_data"
    },
    {
     "name": "stdout",
     "output_type": "stream",
     "text": [
      "0.8941242197883483\n"
     ]
    }
   ],
   "source": [
    "partitions = df.trial_date.unique()\n",
    "np.random.shuffle(partitions)\n",
    "partitions=np.array_split(partitions,10)\n",
    "#partions is now the days to hold out for training we can than create the df's we need from df to generate our test and train data \n",
    "#define list of ROC scores to average  \n",
    "rocauc=[]\n",
    "#define list to hold line objects / fits so we can generate nice plots \n",
    "datadump=[]\n",
    "start=time.time()\n",
    "for partition in partitions: \n",
    "    print('--- Start Fold ---')\n",
    "    print('Partioning Data...')\n",
    "    # now we can fit a model for this random data on train and then validate on test once we select to cols we want \n",
    "    #subset train & test for apropraite cols\n",
    "    test =df[df.trial_date.isin(partition)]\n",
    "    train=df[df.trial_date.isin(partition)==False]\n",
    "    train_x=train[variables].as_matrix()\n",
    "    train_y=train['sub_label'].as_matrix()\n",
    "    test_x=test[variables].as_matrix()\n",
    "    test_y=test['sub_label'].as_matrix()\n",
    "    # call sklearn.model() -- GBC\n",
    "    # Create linear regression object\n",
    "    regr = linear_model.LogisticRegression(n_jobs =4)\n",
    "    # Train the model using the training sets\n",
    "    print('Fitting Model...')\n",
    "    regr.fit(train_x, train_y)\n",
    "    #generate the diagnostics and store them in the respective lists \n",
    "    p=sum(regr.predict_proba(test_x))\n",
    "    a=test[test.sub_label ==1].id.count()\n",
    "    r=1-abs(p-a)/a \n",
    "    print(r)\n",
    "    rocauc.append(r)\n",
    "    datadump.append(regr.predict_proba(test_x))\n",
    "# draw final charts and present model findings.\n",
    "fin=time.time()\n",
    "#print('--- End of CV ---')\n",
    "print('Runtime')\n",
    "print(fin-start)\n",
    "a=pd.DataFrame(rocauc, columns=['a','b'])\n",
    "a.b.hist()\n",
    "pyplt.show()\n",
    "print(a.b.mean())\n",
    "ac.append(a.b.mean())"
   ]
  },
  {
   "cell_type": "markdown",
   "metadata": {},
   "source": [
    "### Linear SVC"
   ]
  },
  {
   "cell_type": "code",
   "execution_count": 38,
   "metadata": {
    "collapsed": false
   },
   "outputs": [],
   "source": [
    "foo=\"\"\"\n",
    "partitions = df.trial_date.unique()\n",
    "np.random.shuffle(partitions)\n",
    "partitions=np.array_split(partitions,10)\n",
    "#partions is now the days to hold out for training we can than create the df's we need from df to generate our test and train data \n",
    "#define list of ROC scores to average  \n",
    "rocauc=[]\n",
    "#define list to hold line objects / fits so we can generate nice plots \n",
    "datadump=[]\n",
    "start=time.time()\n",
    "for partition in partitions: \n",
    "    print('--- Start Fold ---')\n",
    "    print('Partioning Data...')\n",
    "    # now we can fit a model for this random data on train and then validate on test once we select to cols we want \n",
    "    #subset train & test for apropraite cols\n",
    "    test =df[df.trial_date.isin(partition)]\n",
    "    train=df[df.trial_date.isin(partition)==False]\n",
    "    train_x=train[variables].as_matrix()\n",
    "    train_y=train['sub_label'].as_matrix()\n",
    "    test_x=test[variables].as_matrix()\n",
    "    test_y=test['sub_label'].as_matrix()\n",
    "    # call sklearn.model() -- GBC\n",
    "    # Create linear regression object\n",
    "    regr = svm.SVC(kernel='linear',probability =True,cache_size=7000)\n",
    "    # Train the model using the training sets\n",
    "    print('Fitting Model...')\n",
    "    regr.fit(train_x, train_y)\n",
    "    #generate the diagnostics and store them in the respective lists \n",
    "    p=sum(regr.predict_proba(test_x))\n",
    "    a=test[test.sub_label ==1].id.count()\n",
    "    r=1-abs(p-a)/a \n",
    "    print(r)\n",
    "    rocauc.append(r)\n",
    "    datadump.append(regr.predict_proba(test_x))\n",
    "# draw final charts and present model findings.\n",
    "fin=time.time()\n",
    "#print('--- End of CV ---')\n",
    "print('Runtime')\n",
    "print(fin-start)\n",
    "a=pd.DataFrame(rocauc, columns=['a','b'])\n",
    "a.b.hist()\n",
    "pyplt.show()\n",
    "print(a.b.mean())\n",
    "\"\"\" "
   ]
  },
  {
   "cell_type": "markdown",
   "metadata": {
    "collapsed": false
   },
   "source": [
    "### RGB SVC"
   ]
  },
  {
   "cell_type": "code",
   "execution_count": 39,
   "metadata": {
    "collapsed": false
   },
   "outputs": [],
   "source": [
    "foo2=\"\"\"partitions = df.trial_date.unique()\n",
    "np.random.shuffle(partitions)\n",
    "partitions=np.array_split(partitions,10)\n",
    "#partions is now the days to hold out for training we can than create the df's we need from df to generate our test and train data \n",
    "#define list of ROC scores to average  \n",
    "rocauc=[]\n",
    "#define list to hold line objects / fits so we can generate nice plots \n",
    "datadump=[]\n",
    "start=time.time()\n",
    "for partition in partitions: \n",
    "    print('--- Start Fold ---')\n",
    "    print('Partioning Data...')\n",
    "    # now we can fit a model for this random data on train and then validate on test once we select to cols we want \n",
    "    #subset train & test for apropraite cols\n",
    "    test =df[df.trial_date.isin(partition)]\n",
    "    train=df[df.trial_date.isin(partition)==False]\n",
    "    train_x=train[variables].as_matrix()\n",
    "    train_y=train['sub_label'].as_matrix()\n",
    "    test_x=test[variables].as_matrix()\n",
    "    test_y=test['sub_label'].as_matrix()\n",
    "    # call sklearn.model() -- GBC\n",
    "    # Create linear regression object\n",
    "    regr = svm.SVC(probability =True,cache_size=7000)\n",
    "    # Train the model using the training sets\n",
    "    print('Fitting Model...')\n",
    "    regr.fit(train_x, train_y)\n",
    "    #generate the diagnostics and store them in the respective lists \n",
    "    p=sum(regr.predict_proba(test_x))\n",
    "    a=test[test.sub_label ==1].id.count()\n",
    "    r=1-abs(p-a)/a \n",
    "    print(r)\n",
    "    rocauc.append(r)\n",
    "    datadump.append(regr.predict_proba(test_x))\n",
    "# draw final charts and present model findings.\n",
    "fin=time.time()\n",
    "#print('--- End of CV ---')\n",
    "print('Runtime')\n",
    "print(fin-start)\n",
    "a=pd.DataFrame(rocauc, columns=['a','b'])\n",
    "a.b.hist()\n",
    "pyplt.show()\n",
    "print(a.b.mean())\n",
    "\"\"\""
   ]
  },
  {
   "cell_type": "markdown",
   "metadata": {},
   "source": [
    "### KNeighbors"
   ]
  },
  {
   "cell_type": "code",
   "execution_count": 40,
   "metadata": {
    "collapsed": false
   },
   "outputs": [
    {
     "name": "stdout",
     "output_type": "stream",
     "text": [
      "Runtime\n",
      "12.255146026611328\n"
     ]
    },
    {
     "data": {
      "image/png": "[encoded data removed]",
      "text/plain": [
       "<matplotlib.figure.Figure at 0xad09b70>"
      ]
     },
     "metadata": {},
     "output_type": "display_data"
    },
    {
     "name": "stdout",
     "output_type": "stream",
     "text": [
      "Mean accuracy\n",
      "0.8372273234752334\n"
     ]
    }
   ],
   "source": [
    "from sklearn import neighbors \n",
    "partitions = df.trial_date.unique()\n",
    "np.random.shuffle(partitions)\n",
    "partitions=np.array_split(partitions,10)\n",
    "#partions is now the days to hold out for training we can than create the df's we need from df to generate our test and train data \n",
    "#define list of ROC scores to average  \n",
    "rocauc=[]\n",
    "#define list to hold line objects / fits so we can generate nice plots \n",
    "datadump=[]\n",
    "start=time.time()\n",
    "for partition in partitions: \n",
    "    #print('--- Start Fold ---')\n",
    "    #print('Partioning Data...')\n",
    "    # now we can fit a model for this random data on train and then validate on test once we select to cols we want \n",
    "    #subset train & test for apropraite cols\n",
    "    test =df[df.trial_date.isin(partition)]\n",
    "    train=df[df.trial_date.isin(partition)==False]\n",
    "    train_x=train[variables].as_matrix()\n",
    "    train_y=train['sub_label'].as_matrix()\n",
    "    test_x=test[variables].as_matrix()\n",
    "    test_y=test['sub_label'].as_matrix()\n",
    "    # call sklearn.model() -- GBC\n",
    "    # Create linear regression object\n",
    "    regr = neighbors.KNeighborsClassifier(n_neighbors=30, weights='uniform', algorithm='auto', leaf_size=30, p=2, metric='minkowski', metric_params=None, n_jobs=2)\n",
    "    # Train the model using the training sets\n",
    "    #print('Fitting Model...')\n",
    "    regr.fit(train_x, train_y)\n",
    "    #generate the diagnostics and store them in the respective lists \n",
    "    p=sum(regr.predict_proba(test_x))\n",
    "    a=test[test.sub_label ==1].id.count()\n",
    "    r=1-abs(p-a)/a \n",
    "    #print(r)\n",
    "    rocauc.append(r)\n",
    "    datadump.append(regr.predict_proba(test_x))\n",
    "# draw final charts and present model findings.\n",
    "fin=time.time()\n",
    "#print('--- End of CV ---')\n",
    "print('Runtime')\n",
    "print(fin-start)\n",
    "a=pd.DataFrame(rocauc, columns=['a','b'])\n",
    "a.b.hist()\n",
    "pyplt.show()\n",
    "print('Mean accuracy')\n",
    "print(a.b.mean())\n",
    "ac.append(a.b.mean())"
   ]
  },
  {
   "cell_type": "markdown",
   "metadata": {},
   "source": [
    "### Gradient Boosting "
   ]
  },
  {
   "cell_type": "code",
   "execution_count": 41,
   "metadata": {
    "collapsed": false
   },
   "outputs": [
    {
     "name": "stdout",
     "output_type": "stream",
     "text": [
      "--- Start Fold 1 ---\n",
      "Runtime: 3.2363028526306152\n",
      "--- Start Fold 2 ---\n",
      "Runtime: 2.863034963607788\n",
      "--- Start Fold 3 ---\n",
      "Runtime: 2.8191580772399902\n",
      "--- Start Fold 4 ---\n",
      "Runtime: 4.0418760776519775\n",
      "--- Start Fold 5 ---\n",
      "Runtime: 5.108634948730469\n",
      "--- Start Fold 6 ---\n",
      "Runtime: 3.436444044113159\n",
      "--- Start Fold 7 ---\n",
      "Runtime: 3.1232240200042725\n",
      "--- Start Fold 8 ---\n",
      "Runtime: 3.027153968811035\n",
      "--- Start Fold 9 ---\n",
      "Runtime: 4.057887077331543\n",
      "--- Start Fold 10 ---\n",
      "Runtime: 4.158958911895752\n"
     ]
    },
    {
     "data": {
      "image/png": "[encoded data removed]",
      "text/plain": [
       "<matplotlib.figure.Figure at 0xacd0f98>"
      ]
     },
     "metadata": {},
     "output_type": "display_data"
    },
    {
     "name": "stdout",
     "output_type": "stream",
     "text": [
      "Mean accuracy\n",
      "0.8874543672439907\n",
      "Runtime\n",
      "35.87367606163025\n"
     ]
    }
   ],
   "source": [
    "#GBC\n",
    "from sklearn import ensemble \n",
    "partitions = df.trial_date.unique()\n",
    "np.random.shuffle(partitions)\n",
    "partitions=np.array_split(partitions,10)\n",
    "#partions is now the days to hold out for training we can than create the df's we need from df to generate our test and train data \n",
    "#define list of ROC scores to average  \n",
    "rocauc=[]\n",
    "#define list to hold line objects / fits so we can generate nice plots \n",
    "datadump=[]\n",
    "start=time.time()\n",
    "count=0\n",
    "for partition in partitions: \n",
    "    t1=time.time()\n",
    "    count+=1\n",
    "    print('--- Start Fold '+ str(count) +' ---')\n",
    "    #print('Partioning Data...')\n",
    "    # now we can fit a model for this random data on train and then validate on test once we select to cols we want \n",
    "    #subset train & test for apropraite cols\n",
    "    test =df[df.trial_date.isin(partition)]\n",
    "    train=df[df.trial_date.isin(partition)==False]\n",
    "    train_x=train[variables].as_matrix()\n",
    "    train_y=train['sub_label'].as_matrix()\n",
    "    test_x=test[variables].as_matrix()\n",
    "    test_y=test['sub_label'].as_matrix()\n",
    "    # call sklearn.model() -- GBC\n",
    "    # Create linear regression object\n",
    "    regr =ensemble.GradientBoostingClassifier( learning_rate=.1, n_estimators=100, max_depth=3)\n",
    "    # Train the model using the training sets\n",
    "    #print('Fitting Model...')\n",
    "    regr.fit(train_x, train_y)\n",
    "    #generate the diagnostics and store them in the respective lists \n",
    "    p=sum(regr.predict_proba(test_x))\n",
    "    a=test[test.sub_label ==1].id.count()\n",
    "    r=1-abs(p-a)/a \n",
    "    #print(r)\n",
    "    rocauc.append(r)\n",
    "    #datadump.append(regr.predict_proba(test_x))\n",
    "    t2=time.time()\n",
    "    print('Runtime: '+str(t2-t1))\n",
    "# draw final charts and present model findings.\n",
    "fin=time.time()\n",
    "#print('--- End of CV ---')\n",
    "a=pd.DataFrame(rocauc, columns=['a','b'])\n",
    "a.b.hist()\n",
    "pyplt.show()\n",
    "print('Mean accuracy')\n",
    "print(a.b.mean())\n",
    "print('Runtime')\n",
    "print(fin-start)\n",
    "ac.append(a.b.mean())"
   ]
  },
  {
   "cell_type": "markdown",
   "metadata": {},
   "source": [
    "### Parameter Tuning Results # for day 0\n",
    "    loss='deviance', learning_rate=0.1, n_estimators=100, max_depth=3\n",
    "    Mean accuracy\n",
    "    0.9697209768350554\n",
    "    Runtime\n",
    "    67.9241590499878\n",
    "    loss='deviance', learning_rate=0.05, n_estimators=200, max_depth=3\n",
    "    Mean accuracy\n",
    "    0.9544958961718223\n",
    "    Runtime\n",
    "    76.51476979255676\n",
    "    loss='deviance', learning_rate=0.2, n_estimators=50, max_depth=3\n",
    "    Mean accuracy\n",
    "    Mean accuracy\n",
    "    0.9660317101856375\n",
    "    Runtime\n",
    "    35.933475971221924\n"
   ]
  },
  {
   "cell_type": "markdown",
   "metadata": {},
   "source": [
    "#### Parameter Tuning Results # for day 0 \n",
    "-------------------------------------------------------------------\n",
    "    loss='deviance', learning_rate=0.1, n_estimators=100, max_depth=3\n",
    "    Mean accuracy\n",
    "    0.9697209768350554\n",
    "    Runtime\n",
    "    67.9241590499878\n",
    "    \n",
    "-------------------------------------------------------------------\n",
    "    loss='deviance', learning_rate=0.05, n_estimators=200, max_depth=3\n",
    "    Mean accuracy\n",
    "    0.9544958961718223\n",
    "    Runtime\n",
    "    76.51476979255676\n",
    "-------------------------------------------------------------------\n",
    "    loss='deviance', learning_rate=0.2, n_estimators=50, max_depth=3\n",
    "    Mean accuracy\n",
    "    Mean accuracy\n",
    "    0.9660317101856375\n",
    "    Runtime\n",
    "    35.933475971221924\n",
    "-------------------------------------------------------------------\n"
   ]
  },
  {
   "cell_type": "code",
   "execution_count": null,
   "metadata": {
    "collapsed": false,
    "scrolled": true
   },
   "outputs": [],
   "source": [
    "ac"
   ]
  },
  {
   "cell_type": "code",
   "execution_count": null,
   "metadata": {
    "collapsed": false
   },
   "outputs": [],
   "source": [
    "ac[0]-ac[3]"
   ]
  },
  {
   "cell_type": "code",
   "execution_count": null,
   "metadata": {
    "collapsed": false
   },
   "outputs": [],
   "source": [
    "x`"
   ]
  },
  {
   "cell_type": "code",
   "execution_count": null,
   "metadata": {
    "collapsed": false
   },
   "outputs": [],
   "source": [
    "df"
   ]
  },
  {
   "cell_type": "code",
   "execution_count": null,
   "metadata": {
    "collapsed": true
   },
   "outputs": [],
   "source": []
  }
 ],
 "metadata": {
  "anaconda-cloud": {},
  "kernelspec": {
   "display_name": "Python [conda root]",
   "language": "python",
   "name": "conda-root-py"
  },
  "language_info": {
   "codemirror_mode": {
    "name": "ipython",
    "version": 3
   },
   "file_extension": ".py",
   "mimetype": "text/x-python",
   "name": "python",
   "nbconvert_exporter": "python",
   "pygments_lexer": "ipython3",
   "version": "3.4.5"
  }
 },
 "nbformat": 4,
 "nbformat_minor": 1
}
